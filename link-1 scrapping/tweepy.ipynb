{
 "cells": [
  {
   "cell_type": "markdown",
   "metadata": {},
   "source": [
    "## EXTRACCIÓN DE TWEETS"
   ]
  },
  {
   "cell_type": "markdown",
   "metadata": {},
   "source": [
    "### 1. Cargar librerías paquetes "
   ]
  },
  {
   "cell_type": "code",
   "execution_count": 2,
   "metadata": {},
   "outputs": [],
   "source": [
    "import tweepy \n",
    "import pandas as pd\n",
    "import numpy as np\n",
    "import GetOldTweets3 as got\n",
    "import time\n",
    "from IPython.display import display\n",
    "import matplotlib.pyplot as plt\n",
    "import seaborn as sns\n",
    "from credentials import *"
   ]
  },
  {
   "cell_type": "markdown",
   "metadata": {},
   "source": [
    "### 2. Extraer datos"
   ]
  },
  {
   "cell_type": "code",
   "execution_count": 15,
   "metadata": {},
   "outputs": [
    {
     "ename": "NameError",
     "evalue": "name 'TweetManager' is not defined",
     "output_type": "error",
     "traceback": [
      "\u001b[1;31m---------------------------------------------------------------------------\u001b[0m",
      "\u001b[1;31mNameError\u001b[0m                                 Traceback (most recent call last)",
      "Cell \u001b[1;32mIn[15], line 10\u001b[0m\n\u001b[0;32m      8\u001b[0m count \u001b[38;5;241m=\u001b[39m \u001b[38;5;241m10\u001b[39m\n\u001b[0;32m      9\u001b[0m tweetCriteria \u001b[38;5;241m=\u001b[39m TweetCriteria()\u001b[38;5;241m.\u001b[39msetQuerySearch(text_query)\u001b[38;5;241m.\u001b[39msetNear(geocode)\u001b[38;5;241m.\u001b[39msetWithin(km)\u001b[38;5;241m.\u001b[39msetSince(since_date)\u001b[38;5;241m.\u001b[39msetUntil(until_date)\u001b[38;5;241m.\u001b[39msetMaxTweets(count)\u001b[38;5;241m.\u001b[39msetEmoji(\u001b[38;5;124m\"\u001b[39m\u001b[38;5;124municode\u001b[39m\u001b[38;5;124m\"\u001b[39m)\n\u001b[1;32m---> 10\u001b[0m tweets \u001b[38;5;241m=\u001b[39m TweetManager\u001b[38;5;241m.\u001b[39mgetTweets(tweetCriteria)\n\u001b[0;32m     11\u001b[0m tweets_list \u001b[38;5;241m=\u001b[39m [[tweet\u001b[38;5;241m.\u001b[39mid, tweet\u001b[38;5;241m.\u001b[39mauthor_id, tweet\u001b[38;5;241m.\u001b[39musername, tweet\u001b[38;5;241m.\u001b[39mtext, tweet\u001b[38;5;241m.\u001b[39mretweets, tweet\u001b[38;5;241m.\u001b[39mfavorites, tweet\u001b[38;5;241m.\u001b[39mreplies, tweet\u001b[38;5;241m.\u001b[39mdate , tweet\u001b[38;5;241m.\u001b[39mhashtags ] \u001b[38;5;28;01mfor\u001b[39;00m tweet \u001b[38;5;129;01min\u001b[39;00m tweets]\n\u001b[0;32m     12\u001b[0m tweets_chile1 \u001b[38;5;241m=\u001b[39m pd\u001b[38;5;241m.\u001b[39mDataFrame(tweets_list, columns \u001b[38;5;241m=\u001b[39m [\u001b[38;5;124m'\u001b[39m\u001b[38;5;124mTweet_Id\u001b[39m\u001b[38;5;124m'\u001b[39m, \u001b[38;5;124m'\u001b[39m\u001b[38;5;124mTweet_User_Id\u001b[39m\u001b[38;5;124m'\u001b[39m, \u001b[38;5;124m'\u001b[39m\u001b[38;5;124mTweet_User\u001b[39m\u001b[38;5;124m'\u001b[39m, \u001b[38;5;124m'\u001b[39m\u001b[38;5;124mText\u001b[39m\u001b[38;5;124m'\u001b[39m,\u001b[38;5;124m'\u001b[39m\u001b[38;5;124mRetweets\u001b[39m\u001b[38;5;124m'\u001b[39m, \u001b[38;5;124m'\u001b[39m\u001b[38;5;124mFavorites\u001b[39m\u001b[38;5;124m'\u001b[39m, \u001b[38;5;124m'\u001b[39m\u001b[38;5;124mReplies\u001b[39m\u001b[38;5;124m'\u001b[39m, \u001b[38;5;124m'\u001b[39m\u001b[38;5;124mDatetime\u001b[39m\u001b[38;5;124m'\u001b[39m, \u001b[38;5;124m'\u001b[39m\u001b[38;5;124mhashtags\u001b[39m\u001b[38;5;124m'\u001b[39m])\n",
      "\u001b[1;31mNameError\u001b[0m: name 'TweetManager' is not defined"
     ]
    }
   ],
   "source": [
    "from GetOldTweets3.manager.TweetCriteria import TweetCriteria\n",
    "\n",
    "text_query = 'covid OR coronavirus OR pandemia OR cuarentena'\n",
    "since_date = \"2020-1-01\"\n",
    "until_date = \"2020-9-01\"\n",
    "geocode = \"-33.459687,-70.592400\"\n",
    "km = \"53.3381km\"\n",
    "count = 10\n",
    "tweetCriteria = TweetCriteria().setQuerySearch(text_query).setNear(geocode).setWithin(km).setSince(since_date).setUntil(until_date).setMaxTweets(count).setEmoji(\"unicode\")\n",
    "tweets = TweetManager.getTweets(tweetCriteria)\n",
    "tweets_list = [[tweet.id, tweet.author_id, tweet.username, tweet.text, tweet.retweets, tweet.favorites, tweet.replies, tweet.date , tweet.hashtags ] for tweet in tweets]\n",
    "tweets_chile1 = pd.DataFrame(tweets_list, columns = ['Tweet_Id', 'Tweet_User_Id', 'Tweet_User', 'Text','Retweets', 'Favorites', 'Replies', 'Datetime', 'hashtags'])\n",
    "tweets_chile1.to_csv('covid_chi_emoji_1.csv', header=True, index=False, encoding='utf-8-sig')"
   ]
  }
 ],
 "metadata": {
  "kernelspec": {
   "display_name": "base",
   "language": "python",
   "name": "python3"
  },
  "language_info": {
   "codemirror_mode": {
    "name": "ipython",
    "version": 3
   },
   "file_extension": ".py",
   "mimetype": "text/x-python",
   "name": "python",
   "nbconvert_exporter": "python",
   "pygments_lexer": "ipython3",
   "version": "3.12.4"
  }
 },
 "nbformat": 4,
 "nbformat_minor": 2
}
